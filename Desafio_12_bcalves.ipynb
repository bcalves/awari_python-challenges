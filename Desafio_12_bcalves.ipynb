{
 "cells": [
  {
   "cell_type": "markdown",
   "metadata": {
    "colab_type": "text",
    "id": "view-in-github"
   },
   "source": [
    "<a href=\"https://colab.research.google.com/github/WittmannF/br-data-science/blob/master/python/challenges/Desafio_12.ipynb\" target=\"_parent\"><img src=\"https://colab.research.google.com/assets/colab-badge.svg\" alt=\"Open In Colab\"/></a>"
   ]
  },
  {
   "cell_type": "markdown",
   "metadata": {
    "colab_type": "text",
    "id": "AYHY2YXQf6J2"
   },
   "source": [
    "### Desafio 12\n",
    "\n",
    "Escreva uma função em Python para verificar a validade de uma senha.\n",
    "\n",
    "Validação:\n",
    "\n",
    "* Pelo menos 1 letra entre [a-z] e 1 letra entre [A-Z].\n",
    "* Pelo menos 1 número entre [0-9].\n",
    "* Pelo menos 1 caractere de [$ # @].\n",
    "* Comprimento mínimo de 6 caracteres.\n",
    "* Comprimento máximo de 16 caracteres.\n",
    "\n",
    "Entradas: \"12345678\", \"J3sus0\", \"#Te5t300\", \"J*90j12374\", \"Michheeul\", \"Monk3y6\"\n",
    "\n",
    "A saída deve ser a senha e um texto indicando se a senha é válida ou inválida:\n",
    "\n",
    "```\n",
    "\"1234\" - Senha inválida\n",
    "\"Qw#1234\" - Senha válida\n",
    "```"
   ]
  },
  {
   "cell_type": "code",
   "execution_count": 1,
   "metadata": {
    "colab": {},
    "colab_type": "code",
    "id": "UGgtGYGGf6J3"
   },
   "outputs": [],
   "source": [
    "# Seu código"
   ]
  },
  {
   "cell_type": "code",
   "execution_count": 1,
   "metadata": {},
   "outputs": [],
   "source": [
    "senhas=[\"12345678\", \"J3sus0\", \"#Te5t300\", \"J*90j12374\", \"Michheeul\", \"Monk3y6\"]"
   ]
  },
  {
   "cell_type": "code",
   "execution_count": 2,
   "metadata": {
    "colab": {},
    "colab_type": "code",
    "id": "n8F01NzD9uHm"
   },
   "outputs": [],
   "source": [
    "def valid_pass(passwords):\n",
    "    for password in passwords:\n",
    "        result=\"Senha válida\"\n",
    "        #Verifica tamanho da senha\n",
    "        if len(password) < 6 or  len(password) > 16:\n",
    "            result =\"Senha inválida (tamanho invalido)\"\n",
    "        \n",
    "        #Verifica se existe numeros na senha\n",
    "        digit=[char.isdigit() for char in password]\n",
    "        if True not in digit:\n",
    "            result =\"Senha inválida (falta numero)\"\n",
    "        \n",
    "        #Verifica se existe maiusculas na senha\n",
    "        charupper=[char.isupper() for char in password]\n",
    "        if True not in charupper:\n",
    "            result =\"Senha inválida (falta maiuscula)\"\n",
    "        \n",
    "        #Verifica se existe minusculas na senha\n",
    "        charlower=[char.islower() for char in password]\n",
    "        if True not in charlower:\n",
    "            result =\"Senha inválida (falta minuscula)\"\n",
    "        \n",
    "        #Verifica se existe carateres especiais na senha\n",
    "        charesp=[\"@\",\"_\",\"!\",\"#\",\"$\",\"%\",\"^\",\"&\",\"*\",\"(\",\")\",\"<\",\">\",\"?\",\"}\",\"{\",\"~\"]\n",
    "        charspec=[char in charesp for char in password]\n",
    "        if True not in charspec:   \n",
    "            result =\"Senha inválida (falta caraterer especial)\"\n",
    "    \n",
    "        #retorna resultado\n",
    "        print (password,'-',result)\n"
   ]
  },
  {
   "cell_type": "code",
   "execution_count": 3,
   "metadata": {},
   "outputs": [
    {
     "name": "stdout",
     "output_type": "stream",
     "text": [
      "12345678 - Senha inválida (falta caraterer especial)\n",
      "J3sus0 - Senha inválida (falta caraterer especial)\n",
      "#Te5t300 - Senha válida\n",
      "J*90j12374 - Senha válida\n",
      "Michheeul - Senha inválida (falta caraterer especial)\n",
      "Monk3y6 - Senha inválida (falta caraterer especial)\n"
     ]
    }
   ],
   "source": [
    "valid_pass(senhas)"
   ]
  },
  {
   "cell_type": "code",
   "execution_count": null,
   "metadata": {},
   "outputs": [],
   "source": []
  }
 ],
 "metadata": {
  "anaconda-cloud": {},
  "colab": {
   "include_colab_link": true,
   "name": "Desafio 12.ipynb",
   "provenance": []
  },
  "kernelspec": {
   "display_name": "Python 3",
   "language": "python",
   "name": "python3"
  },
  "language_info": {
   "codemirror_mode": {
    "name": "ipython",
    "version": 3
   },
   "file_extension": ".py",
   "mimetype": "text/x-python",
   "name": "python",
   "nbconvert_exporter": "python",
   "pygments_lexer": "ipython3",
   "version": "3.7.6"
  }
 },
 "nbformat": 4,
 "nbformat_minor": 1
}
