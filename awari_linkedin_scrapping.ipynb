{
 "cells": [
  {
   "cell_type": "code",
   "execution_count": 2,
   "metadata": {},
   "outputs": [],
   "source": [
    "#Importaçoes\n",
    "import requests\n",
    "from bs4 import BeautifulSoup\n",
    "import pandas as pd\n",
    "import numpy as np\n",
    "import time\n",
    "from lxml import etree\n",
    "from selenium import webdriver\n"
   ]
  },
  {
   "cell_type": "code",
   "execution_count": 3,
   "metadata": {},
   "outputs": [],
   "source": [
    "#Definicao do webdriver e da url para fazer scrapping\n",
    "DRIVER_PATH = 'd:\\chromedriver\\chromedriver.exe'\n",
    "driver = webdriver.Chrome(executable_path=DRIVER_PATH)\n",
    "\n",
    "url='https://www.linkedin.com.br/jobs/'\n",
    "\n",
    "driver.get(url)\n",
    "time.sleep(2)"
   ]
  },
  {
   "cell_type": "code",
   "execution_count": 4,
   "metadata": {},
   "outputs": [],
   "source": [
    "#Inserção do tipo de emprego e localização\n",
    "job_search=driver.find_element_by_xpath('//*[@id=\"JOBS\"]/section[1]/input')\n",
    "loc_search=driver.find_element_by_xpath('//*[@id=\"JOBS\"]/section[2]/input')\n",
    "\n",
    "job_search.send_keys(\"ciência de dados\")\n",
    "loc_search.send_keys(\"São Paulo\")\n",
    "\n",
    "#Clicar no Botao Search\n",
    "driver.find_element_by_xpath('/html/body/main/section[1]/section/div[2]/button[2]').click()\n",
    "time.sleep(2)\n"
   ]
  },
  {
   "cell_type": "code",
   "execution_count": 5,
   "metadata": {},
   "outputs": [],
   "source": [
    "# Scroll-Down até ao final da página (nota o numero máximo de anuncios e 50)\n",
    "lenOfPage = driver.execute_script(\"window.scrollTo(0, document.body.scrollHeight);var lenOfPage=document.body.scrollHeight;return lenOfPage;\")\n",
    "match=False\n",
    "while(match==False):\n",
    "                lastCount = lenOfPage\n",
    "                time.sleep(3)\n",
    "                lenOfPage = driver.execute_script(\"window.scrollTo(0, document.body.scrollHeight);var lenOfPage=document.body.scrollHeight;return lenOfPage;\")\n",
    "                if lastCount==lenOfPage:\n",
    "                    match=True\n",
    "time.sleep(2)"
   ]
  },
  {
   "cell_type": "code",
   "execution_count": 6,
   "metadata": {},
   "outputs": [],
   "source": [
    "# Buscar todos os links do anuncios pesquisado\n",
    "links_anuncios=[]\n",
    "list_anuncio=driver.find_elements_by_class_name(\"result-card__full-card-link\")\n",
    "for anuncio in list_anuncio:\n",
    "    links_anuncios.append(anuncio.get_attribute('href')[:anuncio.get_attribute('href').find('?refId')]+'/')\n"
   ]
  },
  {
   "cell_type": "code",
   "execution_count": 7,
   "metadata": {},
   "outputs": [],
   "source": [
    "# Definição da Dataframe para guardar os dados a serem extraidos\n",
    "colunas=['Descricao_Geral','Empresa', 'Local','Descricao' ,'nivel_de_experiencia','tipo_trabalho','funcao','setor']\n",
    "df_jobs = pd.DataFrame(columns=colunas)    \n",
    "\n",
    "\n",
    "\n"
   ]
  },
  {
   "cell_type": "code",
   "execution_count": 8,
   "metadata": {},
   "outputs": [],
   "source": [
    "# PAra cada anuncio, buscar a informação da vaga e escrever num dataframe\n",
    "for link_anuncio in links_anuncios:\n",
    "    anuncio=[]\n",
    "    driver.get(link_anuncio)\n",
    "    time.sleep(3)\n",
    "    anuncio.append(driver.find_element_by_xpath(\"/html/body/main/section[1]/section[2]/div[1]/div[1]/h1\").text)  #Descricao_Geral\n",
    "    anuncio.append(driver.find_element_by_xpath(\"/html/body/main/section[1]/section[2]/div[1]/div[1]/h3[1]/span[1]\").text) #Empresa\n",
    "    anuncio.append(driver.find_element_by_xpath(\"/html/body/main/section[1]/section[2]/div[1]/div[1]/h3[1]/span[2]\").text) #Local\n",
    "    driver.find_element_by_xpath(\"/html/body/main/section[1]/section[3]/div/section/button[1]\").click() #Link para Exibir mais da Descrição \n",
    "    anuncio.append(driver.find_element_by_xpath(\"/html/body/main/section[1]/section[3]/div/section/div\").text) #Descricao\n",
    "    anuncio.append(driver.find_element_by_xpath(\"/html/body/main/section[1]/section[3]/ul/li[1]\").text.replace('Nível de experiência\\n','')) #nivel_de_experiencia\n",
    "    anuncio.append(driver.find_element_by_xpath(\"/html/body/main/section[1]/section[3]/ul/li[2]\").text.replace('Tipo de trabalho\\n','')) #tipo_trabalho\n",
    "    anuncio.append(driver.find_element_by_xpath(\"/html/body/main/section[1]/section[3]/ul/li[3]\").text.replace('Função\\n','')) #funcao\n",
    "    anuncio.append(driver.find_element_by_xpath(\"/html/body/main/section[1]/section[3]/ul/li[4]\").text.replace('Setores\\n','')) #setor\n",
    "    df_jobs.loc[len(df_jobs), :] = anuncio"
   ]
  },
  {
   "cell_type": "code",
   "execution_count": 9,
   "metadata": {},
   "outputs": [
    {
     "data": {
      "text/html": [
       "<div>\n",
       "<style scoped>\n",
       "    .dataframe tbody tr th:only-of-type {\n",
       "        vertical-align: middle;\n",
       "    }\n",
       "\n",
       "    .dataframe tbody tr th {\n",
       "        vertical-align: top;\n",
       "    }\n",
       "\n",
       "    .dataframe thead th {\n",
       "        text-align: right;\n",
       "    }\n",
       "</style>\n",
       "<table border=\"1\" class=\"dataframe\">\n",
       "  <thead>\n",
       "    <tr style=\"text-align: right;\">\n",
       "      <th></th>\n",
       "      <th>Descricao_Geral</th>\n",
       "      <th>Empresa</th>\n",
       "      <th>Local</th>\n",
       "      <th>Descricao</th>\n",
       "      <th>nivel_de_experiencia</th>\n",
       "      <th>tipo_trabalho</th>\n",
       "      <th>funcao</th>\n",
       "      <th>setor</th>\n",
       "    </tr>\n",
       "  </thead>\n",
       "  <tbody>\n",
       "    <tr>\n",
       "      <th>0</th>\n",
       "      <td>Banco de talentos Diversidade - AMAZON BRASIL</td>\n",
       "      <td>Amazon</td>\n",
       "      <td>São Paulo, SP</td>\n",
       "      <td>Description\\n\\nNa Amazon, estamos preocupados ...</td>\n",
       "      <td>Não aplicável</td>\n",
       "      <td>Tempo integral</td>\n",
       "      <td>Administração</td>\n",
       "      <td>SoftwareTecnologia da informação e serviços In...</td>\n",
       "    </tr>\n",
       "    <tr>\n",
       "      <th>1</th>\n",
       "      <td>Ciência de Dados</td>\n",
       "      <td>Mindsight</td>\n",
       "      <td>São Paulo, SP</td>\n",
       "      <td>Quem nós somos\\n\\nA Mindsight é uma empresa qu...</td>\n",
       "      <td>Não aplicável</td>\n",
       "      <td>Tempo integral</td>\n",
       "      <td>EngenhariaTecnologia da informação</td>\n",
       "      <td>Software</td>\n",
       "    </tr>\n",
       "    <tr>\n",
       "      <th>2</th>\n",
       "      <td>Analista de Inteligência de Dados Jr.</td>\n",
       "      <td>MSX International</td>\n",
       "      <td>São Paulo, SP</td>\n",
       "      <td>Analista de Inteligência de Dados Jr.\\n\\nA MSX...</td>\n",
       "      <td>Júnior</td>\n",
       "      <td>Tempo integral</td>\n",
       "      <td>OutroTecnologia da informaçãoGerenciamento</td>\n",
       "      <td>Tecnologia da informação e serviços Indústria ...</td>\n",
       "    </tr>\n",
       "    <tr>\n",
       "      <th>3</th>\n",
       "      <td>Diversidade - Inclusão da Comunidade Negra</td>\n",
       "      <td>Nubank</td>\n",
       "      <td>São Paulo, SP</td>\n",
       "      <td>Enfrentar o complexo sistema bancário para cap...</td>\n",
       "      <td>Não aplicável</td>\n",
       "      <td>Tempo integral</td>\n",
       "      <td>Outro</td>\n",
       "      <td>SoftwareInternetServiços financeiros</td>\n",
       "    </tr>\n",
       "    <tr>\n",
       "      <th>4</th>\n",
       "      <td>Banco de Talentos</td>\n",
       "      <td>Dextra</td>\n",
       "      <td>São Paulo, SP</td>\n",
       "      <td>Você tem interesse em trabalhar conosco, mas n...</td>\n",
       "      <td>Assistente</td>\n",
       "      <td>Tempo integral</td>\n",
       "      <td>Recursos humanos</td>\n",
       "      <td>Tecnologia da informação e serviços SoftwareIn...</td>\n",
       "    </tr>\n",
       "  </tbody>\n",
       "</table>\n",
       "</div>"
      ],
      "text/plain": [
       "                                 Descricao_Geral            Empresa  \\\n",
       "0  Banco de talentos Diversidade - AMAZON BRASIL             Amazon   \n",
       "1                               Ciência de Dados          Mindsight   \n",
       "2          Analista de Inteligência de Dados Jr.  MSX International   \n",
       "3     Diversidade - Inclusão da Comunidade Negra             Nubank   \n",
       "4                              Banco de Talentos             Dextra   \n",
       "\n",
       "           Local                                          Descricao  \\\n",
       "0  São Paulo, SP  Description\\n\\nNa Amazon, estamos preocupados ...   \n",
       "1  São Paulo, SP  Quem nós somos\\n\\nA Mindsight é uma empresa qu...   \n",
       "2  São Paulo, SP  Analista de Inteligência de Dados Jr.\\n\\nA MSX...   \n",
       "3  São Paulo, SP  Enfrentar o complexo sistema bancário para cap...   \n",
       "4  São Paulo, SP  Você tem interesse em trabalhar conosco, mas n...   \n",
       "\n",
       "  nivel_de_experiencia   tipo_trabalho  \\\n",
       "0        Não aplicável  Tempo integral   \n",
       "1        Não aplicável  Tempo integral   \n",
       "2               Júnior  Tempo integral   \n",
       "3        Não aplicável  Tempo integral   \n",
       "4           Assistente  Tempo integral   \n",
       "\n",
       "                                       funcao  \\\n",
       "0                               Administração   \n",
       "1          EngenhariaTecnologia da informação   \n",
       "2  OutroTecnologia da informaçãoGerenciamento   \n",
       "3                                       Outro   \n",
       "4                            Recursos humanos   \n",
       "\n",
       "                                               setor  \n",
       "0  SoftwareTecnologia da informação e serviços In...  \n",
       "1                                           Software  \n",
       "2  Tecnologia da informação e serviços Indústria ...  \n",
       "3               SoftwareInternetServiços financeiros  \n",
       "4  Tecnologia da informação e serviços SoftwareIn...  "
      ]
     },
     "execution_count": 9,
     "metadata": {},
     "output_type": "execute_result"
    }
   ],
   "source": [
    "#Visulizacao da Extração\n",
    "df_jobs.head()"
   ]
  },
  {
   "cell_type": "code",
   "execution_count": 10,
   "metadata": {},
   "outputs": [],
   "source": [
    "#Criar arquivo com base no dataframe com os dados\n",
    "df_jobs.to_csv('jobs.csv',sep=';', encoding=\"utf-8\", index=False)"
   ]
  },
  {
   "cell_type": "code",
   "execution_count": null,
   "metadata": {},
   "outputs": [],
   "source": []
  }
 ],
 "metadata": {
  "kernelspec": {
   "display_name": "Python 3",
   "language": "python",
   "name": "python3"
  },
  "language_info": {
   "codemirror_mode": {
    "name": "ipython",
    "version": 3
   },
   "file_extension": ".py",
   "mimetype": "text/x-python",
   "name": "python",
   "nbconvert_exporter": "python",
   "pygments_lexer": "ipython3",
   "version": "3.8.5"
  }
 },
 "nbformat": 4,
 "nbformat_minor": 4
}
